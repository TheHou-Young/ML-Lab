{
 "cells": [
  {
   "cell_type": "markdown",
   "id": "e6c12d78",
   "metadata": {},
   "source": [
    "导入包的依赖"
   ]
  },
  {
   "cell_type": "code",
   "execution_count": 11,
   "id": "fcf5935d",
   "metadata": {},
   "outputs": [],
   "source": [
    "import numpy as np\n",
    "import pandas as pd\n",
    "import sklearn.datasets as sd\n",
    "import sklearn.model_selection as sms\n",
    "import matplotlib.pyplot as plt\n",
    "import random"
   ]
  },
  {
   "cell_type": "markdown",
   "id": "c3e97485",
   "metadata": {},
   "source": [
    "读取实验训练集和验证集"
   ]
  },
  {
   "cell_type": "code",
   "execution_count": 12,
   "id": "bc868e0d",
   "metadata": {},
   "outputs": [
    {
     "data": {
      "text/plain": [
       "((24420, 124), (8141, 124), (24420, 1), (8141, 1))"
      ]
     },
     "execution_count": 12,
     "metadata": {},
     "output_type": "execute_result"
    }
   ],
   "source": [
    "# 在下载时指定n_features为123\n",
    "X,y = sd.load_svmlight_file('a9a.txt',n_features = 123)\n",
    "# 将数据集切分为训练集和验证集\n",
    "X_train, X_valid, y_train, y_valid = sms.train_test_split(X,y) \n",
    "#对稀疏矩阵进行类型转换\n",
    "X_train = X_train.toarray()\n",
    "X_valid = X_valid.toarray()\n",
    "y_train = y_train.reshape(len(y_train),1)\n",
    "y_valid = y_valid.reshape(len(y_valid),1)\n",
    "\n",
    "X_train = np.concatenate((np.ones((X_train.shape[0],1)),X_train),axis = 1)\n",
    "X_valid = np.concatenate((np.ones((X_valid.shape[0],1)),X_valid),axis = 1)\n",
    "X_train.shape, X_valid.shape, y_train.shape, y_valid.shape"
   ]
  },
  {
   "cell_type": "markdown",
   "id": "8a46068f",
   "metadata": {},
   "source": [
    "定义hinge loss函数"
   ]
  },
  {
   "cell_type": "code",
   "execution_count": 13,
   "id": "32dac55f",
   "metadata": {},
   "outputs": [],
   "source": [
    "def hinge_loss(X, y, theta, C):\n",
    "    loss = np.maximum(0, 1 - np.multiply(y, X.dot(theta))).mean()\n",
    "    reg = np.multiply(theta,theta).sum() / 2\n",
    "    return C * loss + reg"
   ]
  },
  {
   "cell_type": "markdown",
   "id": "69bde8fb",
   "metadata": {},
   "source": [
    "计算当前的loss"
   ]
  },
  {
   "cell_type": "code",
   "execution_count": 14,
   "id": "deaa5deb",
   "metadata": {},
   "outputs": [
    {
     "data": {
      "text/plain": [
       "23.71548771837736"
      ]
     },
     "execution_count": 14,
     "metadata": {},
     "output_type": "execute_result"
    }
   ],
   "source": [
    "theta = np.random.random((X_train.shape[1],1))\n",
    "C = 0.4\n",
    "hinge_loss(X_train, y_train, theta, C)"
   ]
  },
  {
   "cell_type": "markdown",
   "id": "19396f4d",
   "metadata": {},
   "source": [
    "定义hinge gradient函数"
   ]
  },
  {
   "cell_type": "code",
   "execution_count": 15,
   "id": "8f926d5c",
   "metadata": {},
   "outputs": [],
   "source": [
    "def hinge_gradient(X, y, theta, C):\n",
    "    error = np.maximum(0, 1 - np.multiply(y, X.dot(theta)))\n",
    "    index = np.where(error==0)\n",
    "    x = X.copy()\n",
    "    x[index,:] = 0\n",
    "    grad = theta - C * x.T.dot(y) / len(y)\n",
    "    grad[-1] = grad[-1] - theta[-1]\n",
    "    return grad"
   ]
  },
  {
   "cell_type": "markdown",
   "id": "7ad16536",
   "metadata": {},
   "source": [
    "定义SVM decent函数"
   ]
  },
  {
   "cell_type": "code",
   "execution_count": 16,
   "id": "fa596fc9",
   "metadata": {},
   "outputs": [],
   "source": [
    "def svm_descent(X, y, theta, alpha, num_iters, batch_size, X_valid, y_valid, C):\n",
    "    loss_train = np.zeros((num_iters,1))\n",
    "    loss_valid = np.zeros((num_iters,1))\n",
    "    data = np.concatenate((y, X), axis=1)\n",
    "    for i in range(num_iters):\n",
    "        sample = np.matrix(random.sample(data.tolist(), batch_size))\n",
    "        grad = hinge_gradient(sample[:,1:125], sample[:,0], theta, C)\n",
    "        theta = theta - alpha * grad\n",
    "        loss_train[i] = hinge_loss(X, y, theta, C)\n",
    "        loss_valid[i] = hinge_loss(X_valid, y_valid, theta, C)\n",
    "    return theta, loss_train, loss_valid"
   ]
  },
  {
   "cell_type": "markdown",
   "id": "fd7ec68e",
   "metadata": {},
   "source": [
    "定义SVM score函数"
   ]
  },
  {
   "cell_type": "code",
   "execution_count": 20,
   "id": "076bfb1e",
   "metadata": {},
   "outputs": [],
   "source": [
    "def svm_score(X, y, theta):\n",
    "    hx = X.dot(theta)\n",
    "    hx[hx>=5] = 1\n",
    "    hx[hx<5] = -1\n",
    "    hx = (hx==y)\n",
    "    return np.mean(hx)"
   ]
  },
  {
   "cell_type": "code",
   "execution_count": 30,
   "id": "606d2c7d",
   "metadata": {},
   "outputs": [
    {
     "data": {
      "text/plain": [
       "(22.216066221538107, 20.13863475904845, 22.220882632414014, 20.143271270843858)"
      ]
     },
     "execution_count": 30,
     "metadata": {},
     "output_type": "execute_result"
    }
   ],
   "source": [
    "theta = np.random.random((X_train.shape[1],1))\n",
    "alpha = 0.01\n",
    "num_iters = 6\n",
    "opt_theta, loss_train, loss_valid = svm_descent(X_train, y_train, theta, alpha, num_iters, 64, X_valid, y_valid, C)\n",
    "loss_train.max(), loss_train.min(), loss_valid.max(), loss_valid.min()"
   ]
  },
  {
   "cell_type": "code",
   "execution_count": 31,
   "id": "b849db06",
   "metadata": {},
   "outputs": [
    {
     "data": {
      "text/plain": [
       "0.7593661712320354"
      ]
     },
     "execution_count": 31,
     "metadata": {},
     "output_type": "execute_result"
    }
   ],
   "source": [
    "svm_score(X_valid, y_valid, opt_theta)"
   ]
  },
  {
   "cell_type": "code",
   "execution_count": 32,
   "id": "1327e17d",
   "metadata": {},
   "outputs": [
    {
     "data": {
      "image/png": "[encoded data removed]",
      "text/plain": [
       "<Figure size 864x576 with 1 Axes>"
      ]
     },
     "metadata": {
      "needs_background": "light"
     },
     "output_type": "display_data"
    }
   ],
   "source": [
    "iteration = np.arange(0, num_iters, step = 1)\n",
    "fig, ax = plt.subplots(figsize = (12,8))\n",
    "ax.set_title('Lvalidation')\n",
    "ax.set_xlabel('iteration')\n",
    "ax.set_ylabel('loss')\n",
    "# plt.plot(iteration, loss_train, 'b', label='Training Set Loss')\n",
    "plt.plot(iteration, loss_valid, 'r', label='Validation Set Loss')\n",
    "plt.legend()\n",
    "plt.show()"
   ]
  },
  {
   "cell_type": "code",
   "execution_count": null,
   "id": "32a7ff41",
   "metadata": {},
   "outputs": [],
   "source": []
  },
  {
   "cell_type": "code",
   "execution_count": null,
   "id": "b8fe8b06",
   "metadata": {},
   "outputs": [],
   "source": []
  }
 ],
 "metadata": {
  "kernelspec": {
   "display_name": "Python 3",
   "language": "python",
   "name": "python3"
  },
  "language_info": {
   "codemirror_mode": {
    "name": "ipython",
    "version": 3
   },
   "file_extension": ".py",
   "mimetype": "text/x-python",
   "name": "python",
   "nbconvert_exporter": "python",
   "pygments_lexer": "ipython3",
   "version": "3.8.8"
  }
 },
 "nbformat": 4,
 "nbformat_minor": 5
}
