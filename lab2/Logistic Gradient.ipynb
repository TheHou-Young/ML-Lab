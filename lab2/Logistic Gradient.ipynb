{
 "cells": [
  {
   "cell_type": "markdown",
   "id": "921c630a",
   "metadata": {},
   "source": [
    "导入包的依赖"
   ]
  },
  {
   "cell_type": "code",
   "execution_count": 2,
   "id": "907c3151",
   "metadata": {},
   "outputs": [],
   "source": [
    "import numpy as np\n",
    "import pandas as pd\n",
    "import sklearn.datasets as sd\n",
    "import sklearn.model_selection as sms\n",
    "import matplotlib.pyplot as plt\n",
    "import random"
   ]
  },
  {
   "cell_type": "markdown",
   "id": "932dec8c",
   "metadata": {},
   "source": [
    "读取实验训练集和验证集"
   ]
  },
  {
   "cell_type": "code",
   "execution_count": 3,
   "id": "13f98055",
   "metadata": {},
   "outputs": [
    {
     "data": {
      "text/plain": [
       "((24420, 124), (8141, 124), (24420, 1), (8141, 1))"
      ]
     },
     "execution_count": 3,
     "metadata": {},
     "output_type": "execute_result"
    }
   ],
   "source": [
    "# 在下载时指定n_features为123\n",
    "X,y = sd.load_svmlight_file('a9a.txt',n_features = 123)\n",
    "# 将数据集切分为训练集和验证集\n",
    "X_train, X_valid, y_train, y_valid = sms.train_test_split(X,y) \n",
    "#对稀疏矩阵进行类型转换\n",
    "X_train = X_train.toarray()\n",
    "X_valid = X_valid.toarray()\n",
    "y_train = y_train.reshape(len(y_train),1)\n",
    "y_valid = y_valid.reshape(len(y_valid),1)\n",
    "\n",
    "X_train = np.concatenate((np.ones((X_train.shape[0],1)),X_train),axis = 1)\n",
    "X_valid = np.concatenate((np.ones((X_valid.shape[0],1)),X_valid),axis = 1)\n",
    "X_train.shape, X_valid.shape, y_train.shape, y_valid.shape"
   ]
  },
  {
   "cell_type": "markdown",
   "id": "975771ef",
   "metadata": {},
   "source": [
    "定义sigmoid函数"
   ]
  },
  {
   "cell_type": "code",
   "execution_count": 4,
   "id": "95281bfc",
   "metadata": {},
   "outputs": [],
   "source": [
    "def sigmoid(z):\n",
    "    return 1/(1 + np.exp(-z))"
   ]
  },
  {
   "cell_type": "markdown",
   "id": "9214f23e",
   "metadata": {},
   "source": [
    "定义logistic loss函数"
   ]
  },
  {
   "cell_type": "code",
   "execution_count": 5,
   "id": "1690fff4",
   "metadata": {},
   "outputs": [],
   "source": [
    "def logistic_loss(X,y,theta):\n",
    "    hx = sigmoid(X.dot(theta))\n",
    "    cost = np.multiply((1+y),np.log(1+hx)) + np.multiply((1-y),np.log(1-hx))\n",
    "    return -cost.mean()/2"
   ]
  },
  {
   "cell_type": "markdown",
   "id": "af78774c",
   "metadata": {},
   "source": [
    "计算当前的loss"
   ]
  },
  {
   "cell_type": "code",
   "execution_count": 6,
   "id": "9f50a356",
   "metadata": {},
   "outputs": [
    {
     "data": {
      "text/plain": [
       "0.4293812571995388"
      ]
     },
     "execution_count": 6,
     "metadata": {},
     "output_type": "execute_result"
    }
   ],
   "source": [
    "theta = np.zeros((X_train.shape[1],1))\n",
    "logistic_loss(X_train, y_train, theta)"
   ]
  },
  {
   "cell_type": "markdown",
   "id": "f711b8e9",
   "metadata": {},
   "source": [
    "定义logistic gradient函数"
   ]
  },
  {
   "cell_type": "code",
   "execution_count": 7,
   "id": "8ead194f",
   "metadata": {},
   "outputs": [],
   "source": [
    "def logistic_gradient(X,y,theta):\n",
    "    return X.T.dot(sigmoid(X.dot(theta))-y)"
   ]
  },
  {
   "cell_type": "markdown",
   "id": "25dcd8e2",
   "metadata": {},
   "source": [
    "定义logistic score函数"
   ]
  },
  {
   "cell_type": "code",
   "execution_count": 8,
   "id": "1c37c6a9",
   "metadata": {},
   "outputs": [],
   "source": [
    "def logistic_score(X, y, theta):\n",
    "    hx = sigmoid(X.dot(theta))\n",
    "    hx[hx>=0.5] = 1\n",
    "    hx[hx<0.5] = -1\n",
    "    hx = (hx==y)\n",
    "    return np.mean(hx)"
   ]
  },
  {
   "cell_type": "markdown",
   "id": "c2418196",
   "metadata": {},
   "source": [
    "定义logistic descent函数"
   ]
  },
  {
   "cell_type": "code",
   "execution_count": 9,
   "id": "fa1a8c68",
   "metadata": {},
   "outputs": [],
   "source": [
    "def logistic_descent(X,y,theta,alpha,num_iters,batch_size,X_valid,y_valid):\n",
    "    loss_train = np.zeros((num_iters,1))\n",
    "    loss_valid = np.zeros((num_iters,1))\n",
    "    data = np.concatenate((y,X),axis = 1)\n",
    "    for i in range(num_iters):\n",
    "        sample = np.matrix(random.sample(data.tolist(),batch_size))\n",
    "        grad = logistic_gradient(sample[:,1:125],sample[:,0],theta)\n",
    "        theta = theta - alpha * grad\n",
    "        loss_train[i] = logistic_loss(X,y,theta)\n",
    "        loss_valid[i] = logistic_loss(X_valid,y_valid,theta)\n",
    "    return theta,loss_train,loss_valid"
   ]
  },
  {
   "cell_type": "markdown",
   "id": "3c8c52aa",
   "metadata": {},
   "source": [
    "确定batch_size的大小，执行梯度下降"
   ]
  },
  {
   "cell_type": "code",
   "execution_count": 10,
   "id": "07b48113",
   "metadata": {},
   "outputs": [
    {
     "data": {
      "text/plain": [
       "(0.4138235928516454,\n",
       " 0.34510826773059505,\n",
       " 0.4107305859229226,\n",
       " 0.3423352257273308)"
      ]
     },
     "execution_count": 10,
     "metadata": {},
     "output_type": "execute_result"
    }
   ],
   "source": [
    "theta = np.zeros((X_train.shape[1],1))\n",
    "alpha = 0.0001\n",
    "num_iters = 6\n",
    "opt_theta,loss_train,loss_valid = logistic_descent(X_train,y_train,theta,alpha,num_iters,64,X_valid,y_valid)\n",
    "loss_train.max(),loss_train.min(),loss_valid.max(),loss_valid.min()"
   ]
  },
  {
   "cell_type": "markdown",
   "id": "90466613",
   "metadata": {},
   "source": [
    "计算得到Lvalidation"
   ]
  },
  {
   "cell_type": "code",
   "execution_count": 11,
   "id": "aa2a6638",
   "metadata": {},
   "outputs": [
    {
     "name": "stdout",
     "output_type": "stream",
     "text": [
      "Lvalidation\n"
     ]
    },
    {
     "data": {
      "text/plain": [
       "0.7570323056135609"
      ]
     },
     "execution_count": 11,
     "metadata": {},
     "output_type": "execute_result"
    }
   ],
   "source": [
    "print(\"Lvalidation\")\n",
    "logistic_score(X_valid,y_valid,opt_theta)"
   ]
  },
  {
   "cell_type": "code",
   "execution_count": 12,
   "id": "7499c4a3",
   "metadata": {},
   "outputs": [
    {
     "data": {
      "image/png": "[encoded data removed]",
      "text/plain": [
       "<Figure size 864x576 with 1 Axes>"
      ]
     },
     "metadata": {
      "needs_background": "light"
     },
     "output_type": "display_data"
    }
   ],
   "source": [
    "iteration = np.arange(0,num_iters,step = 1)\n",
    "fig,ax = plt.subplots(figsize = (12,8))\n",
    "ax.set_title('Lvalidation')\n",
    "ax.set_xlabel('iteration')\n",
    "ax.set_ylabel('loss')\n",
    "# plt.plot(iteration,loss_train,'b',label='Training Set Loss')\n",
    "plt.plot(iteration,loss_valid,'r',label='Validation Set Loss')\n",
    "plt.legend()\n",
    "plt.show()"
   ]
  },
  {
   "cell_type": "code",
   "execution_count": null,
   "id": "c887c02c",
   "metadata": {},
   "outputs": [],
   "source": []
  }
 ],
 "metadata": {
  "kernelspec": {
   "display_name": "Python 3",
   "language": "python",
   "name": "python3"
  },
  "language_info": {
   "codemirror_mode": {
    "name": "ipython",
    "version": 3
   },
   "file_extension": ".py",
   "mimetype": "text/x-python",
   "name": "python",
   "nbconvert_exporter": "python",
   "pygments_lexer": "ipython3",
   "version": "3.8.8"
  }
 },
 "nbformat": 4,
 "nbformat_minor": 5
}
