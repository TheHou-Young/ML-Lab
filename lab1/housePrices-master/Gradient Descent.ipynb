{
 "cells": [
  {
   "cell_type": "markdown",
   "id": "ec04b5ee",
   "metadata": {},
   "source": [
    "导入依赖"
   ]
  },
  {
   "cell_type": "code",
   "execution_count": 3,
   "id": "3724d265",
   "metadata": {},
   "outputs": [],
   "source": [
    "import numpy as np\n",
    "import pandas as pd\n",
    "import sklearn.datasets as sd\n",
    "import sklearn.model_selection as sms\n",
    "import matplotlib.pyplot as plt\n",
    "import math\n",
    "import random"
   ]
  },
  {
   "cell_type": "code",
   "execution_count": 4,
   "id": "448b56da",
   "metadata": {},
   "outputs": [],
   "source": [
    "# 读取实验数据\n",
    "X, y = sd.load_svmlight_file('data/housing_scale.txt',n_features = 13)"
   ]
  },
  {
   "cell_type": "markdown",
   "id": "8686ec6f",
   "metadata": {},
   "source": [
    "将数据集切分为训练集和验证集"
   ]
  },
  {
   "cell_type": "code",
   "execution_count": 5,
   "id": "faf97d1c",
   "metadata": {},
   "outputs": [
    {
     "data": {
      "text/plain": [
       "((379, 13), (127, 13), (379, 1), (127, 1))"
      ]
     },
     "execution_count": 5,
     "metadata": {},
     "output_type": "execute_result"
    }
   ],
   "source": [
    "X_train, X_valid, y_train, y_valid = sms.train_test_split(X, y)\n",
    "# 对稀疏矩阵进行类型转换\n",
    "X_train = X_train.toarray()\n",
    "X_valid = X_valid.toarray()\n",
    "y_train = y_train.reshape(len(y_train),1)\n",
    "y_valid = y_valid.reshape(len(y_valid),1)\n",
    "X_train.shape, X_valid.shape, y_train.shape, y_valid.shape"
   ]
  },
  {
   "cell_type": "code",
   "execution_count": 6,
   "id": "46c73dd7",
   "metadata": {},
   "outputs": [],
   "source": [
    "# 线性模型参数初始化，可以考虑全零初始化，随机初始化或者正态分布初始化。\n",
    "theta = np.zeros((14, 1))"
   ]
  },
  {
   "cell_type": "markdown",
   "id": "4e0e00bd",
   "metadata": {},
   "source": [
    "定义loss函数"
   ]
  },
  {
   "cell_type": "code",
   "execution_count": 7,
   "id": "e1b2fef1",
   "metadata": {},
   "outputs": [],
   "source": [
    "# 选取一个Loss函数，计算训练集的Loss函数值，记为loss\n",
    "def compute_loss(X, y, theta):\n",
    "    hx = X.dot(theta)\n",
    "    error = np.power((hx - y), 2).mean() / 2\n",
    "    return error"
   ]
  },
  {
   "cell_type": "code",
   "execution_count": 8,
   "id": "a82cf5b9",
   "metadata": {},
   "outputs": [
    {
     "data": {
      "text/plain": [
       "((379, 14), (127, 14))"
      ]
     },
     "execution_count": 8,
     "metadata": {},
     "output_type": "execute_result"
    }
   ],
   "source": [
    "#插入一列全为1的表示b（为x添加偏移量）\n",
    "X_train = np.concatenate((np.ones((X_train.shape[0],1)), X_train), axis = 1)\n",
    "X_valid = np.concatenate((np.ones((X_valid.shape[0],1)), X_valid), axis = 1)\n",
    "X_train.shape, X_valid.shape"
   ]
  },
  {
   "cell_type": "code",
   "execution_count": 9,
   "id": "78336baa",
   "metadata": {},
   "outputs": [
    {
     "data": {
      "text/plain": [
       "290.3913192612137"
      ]
     },
     "execution_count": 9,
     "metadata": {},
     "output_type": "execute_result"
    }
   ],
   "source": [
    "# 查看当前训练集的loss\n",
    "loss = compute_loss(X_train, y_train, theta)\n",
    "loss\n"
   ]
  },
  {
   "cell_type": "markdown",
   "id": "25a38163",
   "metadata": {},
   "source": [
    "定义梯度函数和下降函数"
   ]
  },
  {
   "cell_type": "code",
   "execution_count": 10,
   "id": "9b418b23",
   "metadata": {},
   "outputs": [],
   "source": [
    "#定义梯度函数\n",
    "def gradient(X, y, theta):\n",
    "    return X.T.dot(X.dot(theta) - y)"
   ]
  },
  {
   "cell_type": "code",
   "execution_count": 11,
   "id": "6ac2353e",
   "metadata": {},
   "outputs": [],
   "source": [
    "#定义下降函数\n",
    "def descent(X, y, theta, alpha, iters, X_valid, y_valid):\n",
    "    loss_train = np.zeros((iters,1))\n",
    "    loss_valid = np.zeros((iters,1))\n",
    "    for i in range(iters):\n",
    "        grad = gradient(X, y, theta)\n",
    "        theta = theta - alpha * grad\n",
    "        loss_train[i] = compute_loss(X, y, theta)\n",
    "        loss_valid[i] = compute_loss(X_valid, y_valid, theta)\n",
    "    return theta, loss_train, loss_valid"
   ]
  },
  {
   "cell_type": "code",
   "execution_count": 15,
   "id": "86316566",
   "metadata": {},
   "outputs": [
    {
     "data": {
      "text/plain": [
       "(32.87629125429709, 45.348259487870116)"
      ]
     },
     "execution_count": 15,
     "metadata": {},
     "output_type": "execute_result"
    }
   ],
   "source": [
    "# 梯度下降\n",
    "theta = np.zeros((14,1))\n",
    "alpha = 0.001\n",
    "iters = 8\n",
    "opt_theta, loss_train, loss_valid = descent(X_train, y_train, theta, alpha, iters, X_valid, y_valid)\n",
    "loss_train.min(), loss_valid.min()"
   ]
  },
  {
   "cell_type": "code",
   "execution_count": 17,
   "id": "b1846cf2",
   "metadata": {},
   "outputs": [
    {
     "data": {
      "image/png": "[encoded data removed]",
      "text/plain": [
       "<Figure size 864x576 with 1 Axes>"
      ]
     },
     "metadata": {
      "needs_background": "light"
     },
     "output_type": "display_data"
    }
   ],
   "source": [
    "iteration = np.arange(0, iters, step = 1)\n",
    "fig, ax = plt.subplots(figsize = (12,8))\n",
    "ax.set_title('Train')\n",
    "ax.set_xlabel('iteration')\n",
    "ax.set_ylabel('loss')\n",
    "plt.plot(iteration, loss_train, 'b', label='Train')\n",
    "plt.plot(iteration, loss_valid, 'r', label='Valid')\n",
    "plt.legend()\n",
    "plt.show()"
   ]
  },
  {
   "cell_type": "code",
   "execution_count": null,
   "id": "a2826c7d",
   "metadata": {},
   "outputs": [],
   "source": []
  }
 ],
 "metadata": {
  "kernelspec": {
   "display_name": "Python 3",
   "language": "python",
   "name": "python3"
  },
  "language_info": {
   "codemirror_mode": {
    "name": "ipython",
    "version": 3
   },
   "file_extension": ".py",
   "mimetype": "text/x-python",
   "name": "python",
   "nbconvert_exporter": "python",
   "pygments_lexer": "ipython3",
   "version": "3.8.8"
  }
 },
 "nbformat": 4,
 "nbformat_minor": 5
}
