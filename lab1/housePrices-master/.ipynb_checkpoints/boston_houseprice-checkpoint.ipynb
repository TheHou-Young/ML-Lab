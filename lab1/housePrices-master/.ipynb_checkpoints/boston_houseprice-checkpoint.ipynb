{
 "cells": [
  {
   "cell_type": "markdown",
   "metadata": {},
   "source": [
    "# 使用线性回归预测波士顿房价"
   ]
  },
  {
   "cell_type": "markdown",
   "metadata": {},
   "source": [
    "## 说明"
   ]
  },
  {
   "cell_type": "markdown",
   "metadata": {},
   "source": [
    "线性回归，即学习一个线性方程来拟合特征X与结果Y。  \n",
    "如根据房屋面积x1，房间数量x2，地理位置x3等来预测房屋的价格y。  \n",
    "所以我们要学习一个方程:  \n",
    "$y=w_1x_1+w_2x_2+w_3x_3 + b$  \n",
    "这个方程就是线性回归的$模型函数$，就是最终我们用来预测y值的函数  \n",
    "其中$w_1,w_2,w_3,b$ 就是我们要学习的参数。\n",
    "\n",
    "如何学习$w_1,w_2,w_3,b$ 呢，我们要学到怎样的$w_1,w_2,w_3,b$才能证明这个模型ok呢？  \n",
    "我们的目标是让预测值尽可能地接近真实值。设预测值为$y'$,真实值为y，我们当然是希望|y-$y'$|的值越小越好。  \n",
    "所以我们引入一个代价函数，用来衡量整体的预测值与真实值的整体差距。代价函数如下:  \n",
    "J(W,b) = $\\frac{1}{2m}\\sum_{i=1}^{m}{} (y'^{(i)}-y^{(i)})^2=\\frac{1}{2m}\\sum_{i=1}^{m}{} (W·X^{(i)}+b-y^{(i)})^2$\n",
    "\n",
    "我们的目标就是要最小化J(W,b)。最小化J(W,b)的方法就是梯度下降法。"
   ]
  },
  {
   "cell_type": "markdown",
   "metadata": {},
   "source": [
    "## 变量说明"
   ]
  },
  {
   "cell_type": "markdown",
   "metadata": {},
   "source": [
    "对所用到的变量做一个统一说明，方便检查。  \n",
    "\n",
    "将$y=w_1x_1+w_2x_2+w_3x_3 + b$  改写为:  \n",
    "   $y=w_0x_0+w_1x_1+w_2x_2+w_3x_3$    \n",
    "   \n",
    "设:  \n",
    "m: 样本个数  \n",
    "n_x：特征维度  \n",
    "θ：($w_0,w_1,w_2,w_3 ...)$  \n",
    "则：  \n",
    "X的shape 为:(m,n_x+1)  \n",
    "y的shape为：(m,1)  \n",
    "θ 的shape = (n_x+1,1)"
   ]
  },
  {
   "cell_type": "markdown",
   "metadata": {},
   "source": [
    "## 实现"
   ]
  },
  {
   "cell_type": "markdown",
   "metadata": {},
   "source": [
    "### Package"
   ]
  },
  {
   "cell_type": "code",
   "execution_count": 378,
   "metadata": {},
   "outputs": [],
   "source": [
    "import numpy as np\n",
    "import pandas as pd \n",
    "import matplotlib.pyplot as plt\n",
    "from sklearn import datasets\n",
    "from sklearn.datasets import load_svmlight_file\n",
    "from sklearn.model_selection import train_test_split\n",
    "import seaborn as sb"
   ]
  },
  {
   "cell_type": "markdown",
   "metadata": {},
   "source": [
    "### 加载数据"
   ]
  },
  {
   "cell_type": "code",
   "execution_count": 379,
   "metadata": {},
   "outputs": [],
   "source": [
    "# pd_data = pd.read_csv(\"data/train.csv\")\n",
    "# pd_data.head()\n",
    "x, y=load_svmlight_file(\"data/housing_scale.txt\")\n",
    "y1=np.matrix(y)\n",
    "yy=np.transpose(y1)\n",
    "\n",
    "# x1=np.matrix(x)\n",
    "# xx=np.transpose(x1)\n",
    "#矩阵之间是有格式的，我们需要转换格式 y1=np.matrix(y)\n",
    "# yy=np.transpose(y1)\n",
    "xx=x.todense()\n",
    "# print(yy)\n"
   ]
  },
  {
   "cell_type": "code",
   "execution_count": 380,
   "metadata": {},
   "outputs": [
    {
     "name": "stdout",
     "output_type": "stream",
     "text": [
      "(506, 13)\n",
      "(506, 1)\n"
     ]
    }
   ],
   "source": [
    "# y = np.array(pd_data[\"medv\"]).reshape(-1,1)\n",
    "# X = np.array(pd_data.drop(columns=[\"medv\"],axis=1))\n",
    "# print(X.shape)\n",
    "# print(y.shape)\n",
    "# print(X)\n",
    "Y=yy\n",
    "X=xx\n",
    "# 输出矩阵的行列数\n",
    "print(X.shape)\n",
    "print(Y.shape)"
   ]
  },
  {
   "cell_type": "code",
   "execution_count": 381,
   "metadata": {},
   "outputs": [
    {
     "name": "stdout",
     "output_type": "stream",
     "text": [
      "train_X的大小为：(455, 13)\n",
      "tain_y的大小为：(455, 1)\n",
      "test_X的大小为：(51, 13)\n",
      "test_y的大小为：(51, 1)\n"
     ]
    }
   ],
   "source": [
    "#将数据分为训练集和测试集\n",
    "train_X,test_X,train_y,test_y = train_test_split(X,Y,test_size = 0.1,random_state = 1)\n",
    "print(f\"train_X的大小为：{train_X.shape}\")\n",
    "print(f\"tain_y的大小为：{train_y.shape}\")\n",
    "print(f\"test_X的大小为：{test_X.shape}\")\n",
    "print(f\"test_y的大小为：{test_y.shape}\")"
   ]
  },
  {
   "cell_type": "code",
   "execution_count": 382,
   "metadata": {},
   "outputs": [],
   "source": [
    "#标准化\n",
    "#mean计算均值\n",
    "#std计算标准差\n",
    "def nomalize(X,axis):\n",
    "    mean = np.mean(X,axis)\n",
    "    std = np.std(X,axis)\n",
    "    print(mean.shape)\n",
    "    return (X-mean)/std, mean,std"
   ]
  },
  {
   "cell_type": "code",
   "execution_count": 383,
   "metadata": {},
   "outputs": [
    {
     "name": "stdout",
     "output_type": "stream",
     "text": [
      "(1, 13)\n",
      "(455, 14)\n",
      "(51, 14)\n"
     ]
    }
   ],
   "source": [
    "#将数据标准化\n",
    "# 每一个对应的维度坐标取平均\n",
    "train_X,mean,std = nomalize(train_X,axis=0)\n",
    "test_X = (test_X-mean)/std\n",
    "\n",
    "#插入一列全为1的表示b\n",
    "train_X = np.insert(train_X,0,1,axis=1)\n",
    "test_X = np.insert(test_X,0,1,axis=1)\n",
    "print(train_X.shape)\n",
    "print(test_X.shape)"
   ]
  },
  {
   "cell_type": "markdown",
   "metadata": {},
   "source": [
    "### 初始化参数"
   ]
  },
  {
   "cell_type": "code",
   "execution_count": 384,
   "metadata": {},
   "outputs": [],
   "source": [
    "def init_parameters(n):\n",
    "    theta = np.random.randn(n,1)\n",
    "    return theta"
   ]
  },
  {
   "cell_type": "markdown",
   "metadata": {},
   "source": [
    "### 定义损失函数"
   ]
  },
  {
   "cell_type": "code",
   "execution_count": 385,
   "metadata": {},
   "outputs": [],
   "source": [
    "def compute_cost(y_,y):\n",
    "    m = y.shape[0]\n",
    "    cost = np.sum(np.square(y_-y))/(2*m)\n",
    "    return cost"
   ]
  },
  {
   "cell_type": "markdown",
   "metadata": {},
   "source": [
    "### 梯度下降"
   ]
  },
  {
   "cell_type": "markdown",
   "metadata": {},
   "source": [
    "损失函数J(·)是一个凸函数。存在极小值。  \n",
    "梯度下降所做的就是在损失函数上沿着导数方向下降，从而靠近极小值。  \n",
    "所以实现梯度下降的步骤为:  \n",
    "1.对θ求偏导:  \n",
    "    $d_θ = \\frac{d_{J(θ)}}{d_θ} = \\frac{1}{m}X·(X·θ-y)$  \n",
    "2.根据$d_θ$更新θ的值:   \n",
    "$θ = θ-αd_θ$  \n",
    "α为学习速率，人为指定。"
   ]
  },
  {
   "cell_type": "code",
   "execution_count": 386,
   "metadata": {},
   "outputs": [],
   "source": [
    "def gradient_desent(X,y,theta,learning_rate):\n",
    "    m = y.shape[0]\n",
    "    y_ = np.dot(X,theta)\n",
    "    d_theta = np.dot(X.T,y_-y)/m\n",
    "    theta = theta - learning_rate*d_theta\n",
    "    return theta"
   ]
  },
  {
   "cell_type": "markdown",
   "metadata": {},
   "source": [
    "### 预测\n",
    "使用模型函数进行预测"
   ]
  },
  {
   "cell_type": "code",
   "execution_count": 387,
   "metadata": {},
   "outputs": [],
   "source": [
    "def predict(X,theta):\n",
    "    return  np.dot(X,theta)"
   ]
  },
  {
   "cell_type": "markdown",
   "metadata": {},
   "source": [
    "### 优化"
   ]
  },
  {
   "cell_type": "code",
   "execution_count": 388,
   "metadata": {},
   "outputs": [],
   "source": [
    "def optimizer(train_X,train_y,theta,learning_rate,steps):\n",
    "    costs = []\n",
    "    for step in range(steps):\n",
    "        theta = gradient_desent(train_X,train_y,theta,learning_rate)\n",
    "        y_ = predict(train_X,theta)\n",
    "        loss = compute_cost(y_,train_y)\n",
    "        costs.append(loss)\n",
    "        if step % 100 == 0:\n",
    "            print(f\"\\nAfter {step} step(s),cost is :{loss}\")\n",
    "    return theta,costs"
   ]
  },
  {
   "cell_type": "markdown",
   "metadata": {},
   "source": [
    "### 计算正确率\n",
    "给定一个误差范围，如果预测值与真实值之差在该范围内，则表示预测准确"
   ]
  },
  {
   "cell_type": "code",
   "execution_count": 389,
   "metadata": {},
   "outputs": [],
   "source": [
    "def calc_accuracy(y_pred,y,error_ratio):   \n",
    "    '''\n",
    "    y_pred---预测值\n",
    "    y -- 真实值\n",
    "    error_ratio ---误差范围，相比于真实值的百分比，如0.1，0.05\n",
    "    '''\n",
    "    y = y.reshape(-1,1)\n",
    "    m = y.shape[0]\n",
    "    correct_num = np.sum(np.fabs(y_pred-y) < error_ratio*y)\n",
    "    return correct_num/m"
   ]
  },
  {
   "cell_type": "markdown",
   "metadata": {},
   "source": [
    "### 组合到一起，训练模型"
   ]
  },
  {
   "cell_type": "code",
   "execution_count": 390,
   "metadata": {},
   "outputs": [],
   "source": [
    "def model(train_X,train_y,test_X,test_y,learning_rate=0.05,steps=1):\n",
    "    m,n_x = train_X.shape\n",
    "    print(learning_rate)\n",
    "    #初始化参数\n",
    "    theta = init_parameters(n_x)\n",
    "    theta,costs = optimizer(train_X,train_y,theta,learning_rate,steps)\n",
    "    \n",
    "    error_ratio = 0.30 # 即误差不能超过30%\n",
    "    print(\"==== 训练集验证 ====\")\n",
    "    y_pred = predict(train_X,theta)\n",
    "    corr_ratio = calc_accuracy(y_pred,train_y,error_ratio)\n",
    "    print(f\"训练集的正确率为：{corr_ratio}\")\n",
    "    \n",
    "    print(\"==== 验证集验证 ====\")\n",
    "    y_pred = predict(test_X,theta)\n",
    "    corr_ratio = calc_accuracy(y_pred,test_y,error_ratio)\n",
    "    print(f\"验证集的正确率为：{corr_ratio}\")\n",
    "    cost = compute_cost(y_pred,test_y)\n",
    "    print(f\"验证集的损失为：{cost}\")\n",
    "\n",
    "    # 绘制损失函数\n",
    "    plt.xlim(0,steps)\n",
    "    plt.plot(costs)\n",
    "    plt.xlabel(\"step(s)\")\n",
    "    plt.ylabel(\"costs\")\n",
    "    plt.show() \n",
    "    return theta"
   ]
  },
  {
   "cell_type": "code",
   "execution_count": 391,
   "metadata": {},
   "outputs": [
    {
     "name": "stdout",
     "output_type": "stream",
     "text": [
      "0.09\n",
      "\n",
      "After 0 step(s),cost is :272.99802657963676\n",
      "\n",
      "After 100 step(s),cost is :11.240494148687747\n",
      "\n",
      "After 200 step(s),cost is :11.097702340884208\n",
      "\n",
      "After 300 step(s),cost is :11.073550424468175\n",
      "\n",
      "After 400 step(s),cost is :11.066815675608897\n",
      "\n",
      "After 500 step(s),cost is :11.064715083978118\n",
      "\n",
      "After 600 step(s),cost is :11.064048172340684\n",
      "\n",
      "After 700 step(s),cost is :11.06383587966357\n",
      "==== 训练集验证 ====\n",
      "训练集的正确率为：0.8703296703296703\n",
      "==== 验证集验证 ====\n",
      "验证集的正确率为：0.8627450980392157\n",
      "验证集的损失为：10.271179289268511\n"
     ]
    },
    {
     "data": {
      "image/png": "[encoded data removed]",
      "text/plain": [
       "<Figure size 432x288 with 1 Axes>"
      ]
     },
     "metadata": {},
     "output_type": "display_data"
    }
   ],
   "source": [
    "theta = model(train_X,train_y,test_X,test_y,learning_rate=0.09,steps=800)"
   ]
  },
  {
   "cell_type": "markdown",
   "metadata": {},
   "source": [
    "## 总结"
   ]
  },
  {
   "cell_type": "markdown",
   "metadata": {},
   "source": [
    "这里使用的是线性回归，线性增长。实际上更应该是增长到一定程度应该放缓。\n",
    "所以更应该选用类似$\\sqrt$z"
   ]
  }
 ],
 "metadata": {
  "kernelspec": {
   "display_name": "Python 3",
   "language": "python",
   "name": "python3"
  },
  "language_info": {
   "codemirror_mode": {
    "name": "ipython",
    "version": 3
   },
   "file_extension": ".py",
   "mimetype": "text/x-python",
   "name": "python",
   "nbconvert_exporter": "python",
   "pygments_lexer": "ipython3",
   "version": "3.6.5"
  },
  "toc": {
   "base_numbering": 1,
   "nav_menu": {},
   "number_sections": true,
   "sideBar": true,
   "skip_h1_title": false,
   "title_cell": "Table of Contents",
   "title_sidebar": "Contents",
   "toc_cell": false,
   "toc_position": {
    "height": "calc(100% - 180px)",
    "left": "10px",
    "top": "150px",
    "width": "253px"
   },
   "toc_section_display": true,
   "toc_window_display": true
  },
  "varInspector": {
   "cols": {
    "lenName": 16,
    "lenType": 16,
    "lenVar": 40
   },
   "kernels_config": {
    "python": {
     "delete_cmd_postfix": "",
     "delete_cmd_prefix": "del ",
     "library": "var_list.py",
     "varRefreshCmd": "print(var_dic_list())"
    },
    "r": {
     "delete_cmd_postfix": ") ",
     "delete_cmd_prefix": "rm(",
     "library": "var_list.r",
     "varRefreshCmd": "cat(var_dic_list()) "
    }
   },
   "types_to_exclude": [
    "module",
    "function",
    "builtin_function_or_method",
    "instance",
    "_Feature"
   ],
   "window_display": false
  }
 },
 "nbformat": 4,
 "nbformat_minor": 2
}
